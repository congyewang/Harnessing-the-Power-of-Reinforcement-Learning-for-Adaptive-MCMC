{
 "cells": [
  {
   "cell_type": "code",
   "execution_count": 1,
   "metadata": {},
   "outputs": [],
   "source": [
    "from functools import partial\n",
    "\n",
    "import gymnasium as gym\n",
    "import numpy as np\n",
    "from scipy.stats import multivariate_normal\n",
    "\n",
    "import pyrlmala.envs"
   ]
  },
  {
   "cell_type": "code",
   "execution_count": 2,
   "metadata": {},
   "outputs": [],
   "source": [
    "sample_dim = 2\n",
    "num_envs = 10\n",
    "log_target_pdf = partial(multivariate_normal.logpdf, mean=np.zeros(sample_dim), cov=np.eye(sample_dim))\n",
    "grad_log_target_pdf = lambda x: -x\n",
    "initial_sample = np.zeros(sample_dim)"
   ]
  },
  {
   "cell_type": "code",
   "execution_count": 3,
   "metadata": {},
   "outputs": [],
   "source": [
    "envs = gym.make_vec(\"BarkerEnv-v1.0\", num_envs=num_envs, vectorization_mode=\"sync\", log_target_pdf_unsafe=log_target_pdf, grad_log_target_pdf_unsafe=grad_log_target_pdf, initial_sample=initial_sample)"
   ]
  },
  {
   "cell_type": "code",
   "execution_count": 4,
   "metadata": {},
   "outputs": [
    {
     "data": {
      "text/plain": [
       "array([[ 0.        ,  0.        , -1.60383681,  0.06409991],\n",
       "       [ 0.        ,  0.        , -0.90966538,  0.2652688 ],\n",
       "       [ 0.        ,  0.        , -1.35852801, -1.15616959],\n",
       "       [ 0.        ,  0.        ,  0.0024004 ,  0.33966628],\n",
       "       [ 0.        ,  0.        ,  0.97214775, -0.31469331],\n",
       "       [ 0.        ,  0.        ,  0.75944749, -1.6306404 ],\n",
       "       [ 0.        ,  0.        , -0.46964345, -0.85787206],\n",
       "       [ 0.        ,  0.        , -1.82276655,  1.66011418],\n",
       "       [ 0.        ,  0.        ,  1.06659101, -1.06469565],\n",
       "       [ 0.        ,  0.        ,  0.24460552,  0.87543632]])"
      ]
     },
     "execution_count": 4,
     "metadata": {},
     "output_type": "execute_result"
    }
   ],
   "source": [
    "obs, _ = envs.reset(seed=1234)\n",
    "obs"
   ]
  },
  {
   "cell_type": "code",
   "execution_count": 5,
   "metadata": {},
   "outputs": [],
   "source": [
    "step_size = np.array([0.1])\n",
    "actions = np.repeat(envs.call(\"inverse_softplus\", step_size), 2).reshape(num_envs, 2)\n",
    "observations, rewards, terminations, truncations, infos = envs.step(actions)"
   ]
  },
  {
   "cell_type": "code",
   "execution_count": 6,
   "metadata": {},
   "outputs": [
    {
     "data": {
      "text/plain": [
       "array([[ 0.        ,  0.        ,  0.01526192,  0.08637439],\n",
       "       [-0.90966538,  0.2652688 , -0.79067223,  0.32657826],\n",
       "       [-1.35852801, -1.15616959, -1.32450949, -1.16475811],\n",
       "       [ 0.0024004 ,  0.33966628, -0.04646464,  0.36359864],\n",
       "       [ 0.97214775, -0.31469331,  0.90651413, -0.17758806],\n",
       "       [ 0.        ,  0.        ,  0.17243632,  0.00887074],\n",
       "       [-0.46964345, -0.85787206, -0.35675755, -0.99046971],\n",
       "       [-1.82276655,  1.66011418, -1.97864842,  1.77535415],\n",
       "       [ 1.06659101, -1.06469565,  0.93275125, -1.10599102],\n",
       "       [ 0.24460552,  0.87543632,  0.48402639,  0.91642673]])"
      ]
     },
     "execution_count": 6,
     "metadata": {},
     "output_type": "execute_result"
    }
   ],
   "source": [
    "observations"
   ]
  },
  {
   "cell_type": "code",
   "execution_count": 7,
   "metadata": {},
   "outputs": [
    {
     "data": {
      "text/plain": [
       "array([129.47703584,  77.33997263, 174.04786875,   5.94803361,\n",
       "        88.5334897 , 150.9022721 ,  83.63933504, 104.6026067 ,\n",
       "       162.84315547,  71.59068804])"
      ]
     },
     "execution_count": 7,
     "metadata": {},
     "output_type": "execute_result"
    }
   ],
   "source": [
    "rewards"
   ]
  },
  {
   "cell_type": "code",
   "execution_count": null,
   "metadata": {},
   "outputs": [],
   "source": []
  }
 ],
 "metadata": {
  "kernelspec": {
   "display_name": ".venv",
   "language": "python",
   "name": "python3"
  },
  "language_info": {
   "codemirror_mode": {
    "name": "ipython",
    "version": 3
   },
   "file_extension": ".py",
   "mimetype": "text/x-python",
   "name": "python",
   "nbconvert_exporter": "python",
   "pygments_lexer": "ipython3",
   "version": "3.12.7"
  }
 },
 "nbformat": 4,
 "nbformat_minor": 2
}
