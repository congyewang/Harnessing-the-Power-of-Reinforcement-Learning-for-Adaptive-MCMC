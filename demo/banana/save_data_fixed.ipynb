{
 "cells": [
  {
   "cell_type": "code",
   "execution_count": 1,
   "metadata": {},
   "outputs": [],
   "source": [
    "import json\n",
    "from functools import partial\n",
    "from itertools import chain, repeat\n",
    "\n",
    "import numpy as np\n",
    "from toolz import pipe\n",
    "from tqdm.auto import trange\n",
    "\n",
    "import pyrlmala.envs\n",
    "from pyrlmala.utils import Toolbox"
   ]
  },
  {
   "cell_type": "code",
   "execution_count": null,
   "metadata": {},
   "outputs": [],
   "source": [
    "model_name = \"banana\"\n",
    "stan_code_path = f\"{model_name}.stan\"\n",
    "stan_data_path = f\"{model_name}.json\"\n",
    "\n",
    "with open(stan_data_path, \"r\") as f:\n",
    "    data = json.load(f)\n",
    "\n",
    "    log_target_pdf = Toolbox.make_log_target_pdf(stan_code_path, data)\n",
    "    grad_log_target_pdf = Toolbox.make_grad_log_target_pdf(stan_code_path, data)"
   ]
  },
  {
   "cell_type": "code",
   "execution_count": 3,
   "metadata": {},
   "outputs": [],
   "source": [
    "total_timesteps = 500_000\n",
    "sample_dim = 2\n",
    "initial_sample = np.zeros(sample_dim)\n",
    "initial_covariance = np.eye(sample_dim)\n",
    "\n",
    "step_size_config = [0.1, 0.5, 1.0, 2.0]\n",
    "env_func_list = []\n",
    "\n",
    "make_mala_env_func = partial(\n",
    "    Toolbox.make_env,\n",
    "    env_id=\"MALAEnv-v1.0\",\n",
    "    log_target_pdf=log_target_pdf,\n",
    "    grad_log_target_pdf=grad_log_target_pdf,\n",
    "    initial_sample=initial_sample,\n",
    "    initial_covariance=initial_covariance,\n",
    "    total_timesteps=total_timesteps,\n",
    ")\n",
    "\n",
    "make_barker_env_func = partial(\n",
    "    Toolbox.make_env,\n",
    "    env_id=\"BarkerEnv-v1.0\",\n",
    "    log_target_pdf=log_target_pdf,\n",
    "    grad_log_target_pdf=grad_log_target_pdf,\n",
    "    initial_sample=initial_sample,\n",
    "    initial_covariance=initial_covariance,\n",
    "    total_timesteps=total_timesteps,\n",
    ")\n",
    "\n",
    "actions = pipe(\n",
    "    step_size_config,\n",
    "    lambda x: (repeat(item, 4) for item in x),\n",
    "    chain.from_iterable,\n",
    "    list,\n",
    "    np.array,\n",
    "    lambda x: x.reshape(-1, 2),\n",
    "    Toolbox.inverse_softplus,\n",
    ")"
   ]
  },
  {
   "cell_type": "code",
   "execution_count": 4,
   "metadata": {},
   "outputs": [],
   "source": [
    "barker_env_01 = make_mala_env_func(\n",
    "    initial_step_size=Toolbox.inverse_softplus(np.array([0.1]))\n",
    ")()\n",
    "mala_env_01 = make_mala_env_func(\n",
    "    initial_step_size=Toolbox.inverse_softplus(np.array([0.1]))\n",
    ")()\n",
    "barker_env_05 = make_mala_env_func(\n",
    "    initial_step_size=Toolbox.inverse_softplus(np.array([0.5]))\n",
    ")()\n",
    "mala_env_05 = make_mala_env_func(\n",
    "    initial_step_size=Toolbox.inverse_softplus(np.array([0.5]))\n",
    ")()\n",
    "barker_env_10 = make_mala_env_func(\n",
    "    initial_step_size=Toolbox.inverse_softplus(np.array([1.0]))\n",
    ")()\n",
    "mala_env_10 = make_mala_env_func(\n",
    "    initial_step_size=Toolbox.inverse_softplus(np.array([1.0]))\n",
    ")()\n",
    "barker_env_20 = make_mala_env_func(\n",
    "    initial_step_size=Toolbox.inverse_softplus(np.array([2.0]))\n",
    ")()\n",
    "mala_env_20 = make_mala_env_func(\n",
    "    initial_step_size=Toolbox.inverse_softplus(np.array([2.0]))\n",
    ")()\n",
    "\n",
    "envs = {\n",
    "    \"barker_env_01\": barker_env_01,\n",
    "    \"mala_env_01\": mala_env_01,\n",
    "    \"barker_env_05\": barker_env_05,\n",
    "    \"mala_env_05\": mala_env_05,\n",
    "    \"barker_env_10\": barker_env_10,\n",
    "    \"mala_env_10\": mala_env_10,\n",
    "    \"barker_env_20\": barker_env_20,\n",
    "    \"mala_env_20\": mala_env_20,\n",
    "}"
   ]
  },
  {
   "cell_type": "code",
   "execution_count": 5,
   "metadata": {},
   "outputs": [],
   "source": [
    "for i in envs.values():\n",
    "    _ = i.reset()\n"
   ]
  },
  {
   "cell_type": "code",
   "execution_count": null,
   "metadata": {},
   "outputs": [],
   "source": [
    "for _ in trange(total_timesteps):\n",
    "    for idx, key in enumerate(envs):\n",
    "        _ = envs[key].step(actions[idx])"
   ]
  },
  {
   "cell_type": "code",
   "execution_count": 7,
   "metadata": {},
   "outputs": [],
   "source": [
    "np.savez_compressed(\"Data/store_accepted_sample.npz\", **{key: value.get_wrapper_attr(\"store_accepted_sample\") for key, value in envs.items()})\n",
    "np.savez_compressed(\"Data/store_reward.npz\", **{key: value.get_wrapper_attr(\"store_reward\") for key, value in envs.items()})"
   ]
  },
  {
   "cell_type": "code",
   "execution_count": null,
   "metadata": {},
   "outputs": [],
   "source": []
  }
 ],
 "metadata": {
  "kernelspec": {
   "display_name": ".venv",
   "language": "python",
   "name": "python3"
  },
  "language_info": {
   "codemirror_mode": {
    "name": "ipython",
    "version": 3
   },
   "file_extension": ".py",
   "mimetype": "text/x-python",
   "name": "python",
   "nbconvert_exporter": "python",
   "pygments_lexer": "ipython3",
   "version": "3.12.7"
  }
 },
 "nbformat": 4,
 "nbformat_minor": 2
}
