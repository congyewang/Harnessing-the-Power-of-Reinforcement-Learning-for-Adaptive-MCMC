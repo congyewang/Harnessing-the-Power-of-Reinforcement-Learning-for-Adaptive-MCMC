{
 "cells": [
  {
   "cell_type": "code",
   "execution_count": 2,
   "metadata": {},
   "outputs": [],
   "source": [
    "import numpy as np\n",
    "import torch\n",
    "from pyrlmala.utils import Toolbox\n",
    "from prettytable import PrettyTable\n",
    "table = PrettyTable()"
   ]
  },
  {
   "cell_type": "code",
   "execution_count": 3,
   "metadata": {},
   "outputs": [],
   "source": [
    "accepted_sample_path, reward_path = 'Data/store_accepted_sample.npz', 'Data/store_reward.npz'\n",
    "accepted_sample, reward = np.load(accepted_sample_path), np.load(reward_path)\n",
    "env_name_list = list(accepted_sample.keys())\n",
    "\n",
    "gs_path = 'Data/gs.npz'\n",
    "gs = np.load(gs_path)['gs'][-50_000:]"
   ]
  },
  {
   "cell_type": "code",
   "execution_count": 4,
   "metadata": {},
   "outputs": [
    {
     "data": {
      "text/plain": [
       "['barker_env_01',\n",
       " 'mala_env_01',\n",
       " 'barker_env_05',\n",
       " 'mala_env_05',\n",
       " 'barker_env_10',\n",
       " 'mala_env_10',\n",
       " 'barker_env_20',\n",
       " 'mala_env_20']"
      ]
     },
     "execution_count": 4,
     "metadata": {},
     "output_type": "execute_result"
    }
   ],
   "source": [
    "list(accepted_sample.keys())"
   ]
  },
  {
   "cell_type": "code",
   "execution_count": 5,
   "metadata": {},
   "outputs": [
    {
     "data": {
      "text/plain": [
       "{'barker_env_01': np.float64(0.11865000880428603),\n",
       " 'mala_env_01': np.float64(0.11862236002876421),\n",
       " 'barker_env_05': np.float64(0.46744087918480065),\n",
       " 'mala_env_05': np.float64(0.46722761055632056),\n",
       " 'barker_env_10': np.float64(0.0061825747751364565),\n",
       " 'mala_env_10': np.float64(0.022855842691310104),\n",
       " 'barker_env_20': np.float64(3.403433820087769e-05),\n",
       " 'mala_env_20': np.float64(3.860214297378253e-05)}"
      ]
     },
     "execution_count": 5,
     "metadata": {},
     "output_type": "execute_result"
    }
   ],
   "source": [
    "esjd_dict = {key: Toolbox.expected_square_jump_distance(value) for key, value in accepted_sample.items()}\n",
    "esjd_dict"
   ]
  },
  {
   "cell_type": "code",
   "execution_count": 6,
   "metadata": {},
   "outputs": [
    {
     "name": "stdout",
     "output_type": "stream",
     "text": [
      "+---------------+----------+\n",
      "|      Env      |   ESJD   |\n",
      "+---------------+----------+\n",
      "| barker_env_01 | 0.118650 |\n",
      "|  mala_env_01  | 0.118622 |\n",
      "| barker_env_05 | 0.467441 |\n",
      "|  mala_env_05  | 0.467228 |\n",
      "| barker_env_10 | 0.006183 |\n",
      "|  mala_env_10  | 0.022856 |\n",
      "| barker_env_20 | 0.000034 |\n",
      "|  mala_env_20  | 0.000039 |\n",
      "+---------------+----------+\n"
     ]
    }
   ],
   "source": [
    "table.field_names = [\"Env\", \"ESJD\"]\n",
    "for env, value in esjd_dict.items():\n",
    "    table.add_row([env, f\"{value:.6f}\"])\n",
    "print(table)"
   ]
  },
  {
   "cell_type": "code",
   "execution_count": 6,
   "metadata": {},
   "outputs": [],
   "source": [
    "gs_gpu = torch.from_numpy(gs).cuda()"
   ]
  },
  {
   "cell_type": "code",
   "execution_count": 7,
   "metadata": {},
   "outputs": [],
   "source": [
    "accepted_sample_gpu = {key: torch.from_numpy(value).cuda() for key, value in accepted_sample.items()}"
   ]
  },
  {
   "cell_type": "code",
   "execution_count": null,
   "metadata": {},
   "outputs": [],
   "source": [
    "accepted_sample_gpu[\"barker_env_01\"]"
   ]
  },
  {
   "cell_type": "code",
   "execution_count": null,
   "metadata": {},
   "outputs": [],
   "source": [
    "Toolbox.batched_mmd(accepted_sample_gpu[\"barker_env_01\"], gs_gpu, 1000)"
   ]
  },
  {
   "cell_type": "code",
   "execution_count": null,
   "metadata": {},
   "outputs": [],
   "source": []
  }
 ],
 "metadata": {
  "kernelspec": {
   "display_name": ".venv",
   "language": "python",
   "name": "python3"
  },
  "language_info": {
   "codemirror_mode": {
    "name": "ipython",
    "version": 3
   },
   "file_extension": ".py",
   "mimetype": "text/x-python",
   "name": "python",
   "nbconvert_exporter": "python",
   "pygments_lexer": "ipython3",
   "version": "3.12.7"
  }
 },
 "nbformat": 4,
 "nbformat_minor": 2
}
