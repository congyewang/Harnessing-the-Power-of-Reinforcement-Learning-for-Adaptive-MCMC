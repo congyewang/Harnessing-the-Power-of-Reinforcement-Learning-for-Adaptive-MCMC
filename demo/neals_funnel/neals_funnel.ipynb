{
 "cells": [
  {
   "cell_type": "code",
   "execution_count": 1,
   "metadata": {},
   "outputs": [],
   "source": [
    "import json\n",
    "from functools import partial\n",
    "\n",
    "import matplotlib.pyplot as plt\n",
    "import numpy as np\n",
    "import torch\n",
    "from toolz import pipe\n",
    "\n",
    "from pyrlmala.learning import LearningFactory\n",
    "from pyrlmala.learning.callback import Callback\n",
    "from pyrlmala.utils import Toolbox"
   ]
  },
  {
   "cell_type": "code",
   "execution_count": 2,
   "metadata": {},
   "outputs": [],
   "source": [
    "plot_agent_500 = partial(Toolbox.plot_agent, steps_per_episode=500)"
   ]
  },
  {
   "cell_type": "code",
   "execution_count": null,
   "metadata": {},
   "outputs": [],
   "source": [
    "model_name = \"neals_funnel\"\n",
    "stan_code_path = f\"{model_name}.stan\"\n",
    "stan_data_path = f\"{model_name}.json\"\n",
    "\n",
    "with open(stan_data_path, \"r\") as f:\n",
    "    data = json.load(f)\n",
    "\n",
    "    log_target_pdf = Toolbox.make_log_target_pdf(stan_code_path, data)\n",
    "    grad_log_target_pdf = Toolbox.make_grad_log_target_pdf(stan_code_path, data)"
   ]
  },
  {
   "cell_type": "code",
   "execution_count": null,
   "metadata": {},
   "outputs": [],
   "source": [
    "data_range = ((-2.5, 2.5, 100), (-7.5, 2.5, 100))\n",
    "Toolbox.target_plot(data_range, log_target_pdf)"
   ]
  },
  {
   "cell_type": "code",
   "execution_count": null,
   "metadata": {},
   "outputs": [],
   "source": [
    "sample_dim = 2\n",
    "initial_sample = np.zeros(sample_dim)\n",
    "initial_step_size = np.array([0.01])\n",
    "algorithm = \"ddpg\"\n",
    "runtime_config_path = \"../../config/runtime.toml\"\n",
    "\n",
    "learning_instance = LearningFactory.create_learning_instance(\n",
    "    algorithm=algorithm,\n",
    "    log_target_pdf=log_target_pdf,\n",
    "    grad_log_target_pdf=grad_log_target_pdf,\n",
    "    initial_sample=initial_sample,\n",
    "    initial_step_size=initial_step_size,\n",
    "    hyperparameter_config_path=f\"../../config/{algorithm}.toml\",\n",
    "    actor_config_path=\"../../config/actor.toml\",\n",
    "    critic_config_path=\"../../config/critic.toml\",\n",
    ")"
   ]
  },
  {
   "cell_type": "code",
   "execution_count": null,
   "metadata": {},
   "outputs": [],
   "source": [
    "x_range = (-3,   3, 0.1)\n",
    "y_range = (-7, 2.5,   1)\n",
    "\n",
    "policy = lambda x: learning_instance.actor(x.double())\n",
    "\n",
    "Toolbox.policy_plot_2D_heatmap(policy, torch.arange(*x_range), torch.arange(*y_range))"
   ]
  },
  {
   "cell_type": "code",
   "execution_count": null,
   "metadata": {},
   "outputs": [],
   "source": [
    "visualizer_and_actor_lr_instance = Callback(\n",
    "    learning_instance,\n",
    "    plot_frequency=100,\n",
    "    num_of_mesh=10,\n",
    "    auto_start=True,\n",
    "    runtime_config_path=runtime_config_path,)"
   ]
  },
  {
   "cell_type": "code",
   "execution_count": null,
   "metadata": {},
   "outputs": [],
   "source": [
    "visualizer_and_actor_lr_instance.train()"
   ]
  },
  {
   "cell_type": "code",
   "execution_count": null,
   "metadata": {},
   "outputs": [],
   "source": [
    "Toolbox.policy_plot_2D_heatmap(policy, torch.arange(*x_range), torch.arange(*y_range))"
   ]
  },
  {
   "cell_type": "code",
   "execution_count": null,
   "metadata": {},
   "outputs": [],
   "source": [
    "lower_window_size = 0\n",
    "upper_window_size = learning_instance.env.envs[0].get_wrapper_attr(\"current_step\") - 1\n",
    "\n",
    "reward_item_plot = lambda tpl: plt.plot(tpl[1][lower_window_size:upper_window_size], label=f\"{tpl[0]}\", alpha=0.5)\n",
    "\n",
    "pipe(\n",
    "    learning_instance.env.envs[0],\n",
    "    lambda env: (\n",
    "        (\"transient\", env.get_wrapper_attr(\"reward_items\")[\"transient\"]),\n",
    "        (\"entropy\", env.get_wrapper_attr(\"reward_items\")[\"entropy\"]),\n",
    "        (\"esjd\", env.get_wrapper_attr(\"reward_items\")[\"expected_square_jump_distance\"])\n",
    "    ),\n",
    "    lambda tpl: (reward_item_plot(tpl[0]), reward_item_plot(tpl[1]), reward_item_plot(tpl[2])),\n",
    "    lambda _: plt.legend(),\n",
    "    lambda _: plt.show()\n",
    ")"
   ]
  },
  {
   "cell_type": "code",
   "execution_count": null,
   "metadata": {},
   "outputs": [],
   "source": [
    "accepted_sample = pipe(\n",
    "    learning_instance,\n",
    "    lambda x: getattr(x, \"env\"),\n",
    "    lambda x: x.get_attr(\"store_accepted_sample\"),\n",
    ")[0]\n",
    "\n",
    "plt.plot(\n",
    "    accepted_sample[lower_window_size:upper_window_size, 0],\n",
    "    accepted_sample[lower_window_size:upper_window_size, 1],\n",
    "    'o-', alpha=0.1)\n",
    "plt.show()"
   ]
  },
  {
   "cell_type": "code",
   "execution_count": null,
   "metadata": {},
   "outputs": [],
   "source": [
    "pipe(learning_instance, lambda x: getattr(x, \"critic_values\"), plot_agent_500)"
   ]
  },
  {
   "cell_type": "code",
   "execution_count": null,
   "metadata": {},
   "outputs": [],
   "source": [
    "pipe(learning_instance, lambda x: getattr(x, \"critic_loss\"), plot_agent_500)"
   ]
  },
  {
   "cell_type": "code",
   "execution_count": null,
   "metadata": {},
   "outputs": [],
   "source": [
    "pipe(learning_instance, lambda x: getattr(x, \"actor_loss\"), plot_agent_500)"
   ]
  },
  {
   "cell_type": "code",
   "execution_count": null,
   "metadata": {},
   "outputs": [],
   "source": [
    "reward = pipe(\n",
    "    learning_instance,\n",
    "    lambda x: getattr(x, \"env\"),\n",
    "    lambda x: x.get_attr(\"store_reward\")[0],\n",
    "    Toolbox.reward_plot\n",
    ")"
   ]
  },
  {
   "cell_type": "code",
   "execution_count": null,
   "metadata": {},
   "outputs": [],
   "source": []
  }
 ],
 "metadata": {
  "kernelspec": {
   "display_name": ".venv",
   "language": "python",
   "name": "python3"
  },
  "language_info": {
   "codemirror_mode": {
    "name": "ipython",
    "version": 3
   },
   "file_extension": ".py",
   "mimetype": "text/x-python",
   "name": "python",
   "nbconvert_exporter": "python",
   "pygments_lexer": "ipython3",
   "version": "3.12.7"
  }
 },
 "nbformat": 4,
 "nbformat_minor": 2
}
