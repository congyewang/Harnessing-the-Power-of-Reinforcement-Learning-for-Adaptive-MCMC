{
 "cells": [
  {
   "cell_type": "code",
   "execution_count": null,
   "metadata": {},
   "outputs": [],
   "source": [
    "import numpy as np\n",
    "import torch\n",
    "\n",
    "from pyrlmala.utils import NUTSFromPosteriorDB, Toolbox"
   ]
  },
  {
   "cell_type": "code",
   "execution_count": 2,
   "metadata": {},
   "outputs": [],
   "source": [
    "model_name = \"test-laplace_1-test-laplace_1\"\n",
    "posteriordb_path = \"../posteriordb/posterior_database\""
   ]
  },
  {
   "cell_type": "code",
   "execution_count": null,
   "metadata": {},
   "outputs": [
    {
     "name": "stderr",
     "output_type": "stream",
     "text": [
      "14:19:04 - cmdstanpy - INFO - CmdStan start processing\n",
      "14:19:04 - cmdstanpy - INFO - Chain [1] start processing\n",
      "14:19:05 - cmdstanpy - INFO - Chain [1] done processing\n"
     ]
    }
   ],
   "source": [
    "with NUTSFromPosteriorDB(model_name, posteriordb_path) as sampler:\n",
    "    sampler.load_posterior()\n",
    "    samples = sampler.output_samples(\n",
    "        chains=1,\n",
    "        inits={\"x\": 0.1 * np.ones(2)},\n",
    "        seed=42,\n",
    "        iter_sampling=50_000,\n",
    "        show_progress=False,\n",
    "    )"
   ]
  },
  {
   "cell_type": "code",
   "execution_count": 4,
   "metadata": {},
   "outputs": [],
   "source": [
    "gs = Toolbox.gold_standard(model_name, posteriordb_path)"
   ]
  },
  {
   "cell_type": "code",
   "execution_count": null,
   "metadata": {},
   "outputs": [
    {
     "data": {
      "text/plain": [
       "tensor(0.6035, dtype=torch.float64)"
      ]
     },
     "execution_count": 5,
     "metadata": {},
     "output_type": "execute_result"
    }
   ],
   "source": [
    "Toolbox.batched_mmd(\n",
    "    torch.from_numpy(gs), torch.from_numpy(samples[\"x\"]), batch_size=1_000, sigma=1.0\n",
    ")"
   ]
  },
  {
   "cell_type": "code",
   "execution_count": null,
   "metadata": {},
   "outputs": [],
   "source": []
  }
 ],
 "metadata": {
  "kernelspec": {
   "display_name": ".venv",
   "language": "python",
   "name": "python3"
  },
  "language_info": {
   "codemirror_mode": {
    "name": "ipython",
    "version": 3
   },
   "file_extension": ".py",
   "mimetype": "text/x-python",
   "name": "python",
   "nbconvert_exporter": "python",
   "pygments_lexer": "ipython3",
   "version": "3.12.7"
  }
 },
 "nbformat": 4,
 "nbformat_minor": 2
}
