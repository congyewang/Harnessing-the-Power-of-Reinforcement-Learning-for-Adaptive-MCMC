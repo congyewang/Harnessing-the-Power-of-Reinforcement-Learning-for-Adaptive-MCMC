{
 "cells": [
  {
   "cell_type": "code",
   "execution_count": 1,
   "id": "450423a8",
   "metadata": {},
   "outputs": [],
   "source": [
    "import numpy as np\n",
    "import matplotlib.pyplot as plt\n",
    "from pyrlmala.utils.target import AutoStanTargetPDF\n",
    "from typing import Callable, Tuple\n",
    "from matplotlib.colors import BoundaryNorm\n",
    "from matplotlib.ticker import MaxNLocator"
   ]
  },
  {
   "cell_type": "code",
   "execution_count": 2,
   "id": "0ce0b441",
   "metadata": {},
   "outputs": [],
   "source": [
    "LATEX_STYLE = True\n",
    "\n",
    "if LATEX_STYLE:\n",
    "    plt.rcParams.update(\n",
    "        {\n",
    "            \"text.usetex\": True,\n",
    "            \"font.family\": \"serif\",\n",
    "            \"font.serif\": [\"Computer Modern Roman\"],\n",
    "        }\n",
    "    )\n",
    "\n",
    "plt.rcParams.update(\n",
    "    {\n",
    "        \"font.size\": 24,\n",
    "        \"axes.titlesize\": 28,\n",
    "        \"axes.labelsize\": 26,\n",
    "        \"xtick.labelsize\": 20,\n",
    "        \"ytick.labelsize\": 20,\n",
    "        \"legend.fontsize\": 16,\n",
    "    }\n",
    ")"
   ]
  },
  {
   "cell_type": "code",
   "execution_count": 3,
   "id": "426215fe",
   "metadata": {},
   "outputs": [],
   "source": [
    "posteriordb_path = \"../posteriordb/posterior_database\""
   ]
  },
  {
   "cell_type": "code",
   "execution_count": null,
   "id": "2c1d8362",
   "metadata": {},
   "outputs": [],
   "source": [
    "target_laplace_1 = AutoStanTargetPDF(\"test-laplace_1-test-laplace_1\", posteriordb_path)\n",
    "target_laplace_2 = AutoStanTargetPDF(\"test-laplace_2-test-laplace_2\", posteriordb_path)\n",
    "target_banana = AutoStanTargetPDF(\"test-banana-test-banana\", posteriordb_path)"
   ]
  },
  {
   "cell_type": "code",
   "execution_count": null,
   "id": "072ee8dc",
   "metadata": {},
   "outputs": [],
   "source": [
    "def target_plot_2d(\n",
    "    ax: plt.Axes,\n",
    "    x_mesh_range: Tuple[float, float, int],\n",
    "    y_mesh_range: Tuple[float, float, int],\n",
    "    log_target_pdf: Callable[[np.ndarray], float],\n",
    "    *,\n",
    "    norm,\n",
    "    levels: np.ndarray,\n",
    "    cmap: str = \"turbo\",\n",
    "    show_ticks: bool = False,\n",
    "    n_xticks: int = 5,\n",
    "    n_yticks: int = 5,\n",
    "):\n",
    "    x0, x1, nx = x_mesh_range\n",
    "    y0, y1, ny = y_mesh_range\n",
    "    mesh_x, mesh_y = np.meshgrid(\n",
    "        np.linspace(x0, x1, nx),\n",
    "        np.linspace(y0, y1, ny),\n",
    "    )\n",
    "    data = np.stack([mesh_x.ravel(), mesh_y.ravel()], axis=1)\n",
    "\n",
    "    vals = np.exp([log_target_pdf(pt) for pt in data])\n",
    "    Z = vals.reshape(ny, nx)\n",
    "\n",
    "    cf = ax.contourf(\n",
    "        mesh_x, mesh_y, Z,\n",
    "        levels=levels,\n",
    "        norm=norm,\n",
    "        cmap=cmap,\n",
    "        extend='neither'\n",
    "    )\n",
    "\n",
    "    if show_ticks:\n",
    "        ax.set_xticks(np.linspace(x0, x1, n_xticks))\n",
    "        ax.set_yticks(np.linspace(y0, y1, n_yticks))\n",
    "        ax.tick_params(axis='both', which='major', labelsize=plt.rcParams['xtick.labelsize'])\n",
    "    else:\n",
    "        ax.set_xticks([])\n",
    "        ax.set_yticks([])\n",
    "\n",
    "    ax.set_aspect('auto')\n",
    "    return cf\n"
   ]
  },
  {
   "cell_type": "code",
   "execution_count": null,
   "id": "747afb9d",
   "metadata": {},
   "outputs": [
    {
     "data": {
      "image/png": "[encoded data removed]",
      "text/plain": [
       "<Figure size 1500x500 with 4 Axes>"
      ]
     },
     "metadata": {},
     "output_type": "display_data"
    }
   ],
   "source": [
    "boundaries = np.array([0.00, 0.05, 0.10, 0.20, 0.50, 1.00, 2.00, 3.5])\n",
    "cmap = plt.cm.turbo\n",
    "norm = BoundaryNorm(boundaries, ncolors=cmap.N, clip=True)\n",
    "\n",
    "funcs = [\n",
    "    target_laplace_1.log_target_pdf,\n",
    "    target_laplace_2.log_target_pdf,\n",
    "    target_banana.log_target_pdf,\n",
    "]\n",
    "mesh_ranges = [\n",
    "    ((-3, 3, 100), (-3, 3, 100)),\n",
    "    ((-3, 3, 100), (-3, 3, 100)),\n",
    "    ((-4, 4, 100), (5, 15, 100)),\n",
    "]\n",
    "\n",
    "fig, axes = plt.subplots(\n",
    "    1, 3,\n",
    "    figsize=(15, 5),\n",
    "    subplot_kw={'aspect': 'auto'},\n",
    "    constrained_layout=True\n",
    ")\n",
    "\n",
    "for ax, f, (x_rng, y_rng) in zip(axes, funcs, mesh_ranges):\n",
    "    target_plot_2d(\n",
    "        ax,\n",
    "        x_mesh_range=x_rng,\n",
    "        y_mesh_range=y_rng,\n",
    "        log_target_pdf=f,\n",
    "        norm=norm,\n",
    "        levels=boundaries,\n",
    "        cmap=cmap,\n",
    "    )\n",
    "\n",
    "cbar = fig.colorbar(\n",
    "    plt.cm.ScalarMappable(norm=norm, cmap=cmap),\n",
    "    ax=axes,\n",
    "    boundaries=boundaries,\n",
    "    spacing='proportional',\n",
    "    ticks=boundaries,\n",
    ")\n",
    "cbar.set_label(r\"$p(x)$\")\n",
    "cbar.locator = MaxNLocator(nbins=5)\n",
    "plt.savefig(\"target_share_plot.pdf\", bbox_inches='tight')"
   ]
  },
  {
   "cell_type": "code",
   "execution_count": null,
   "id": "780e3983",
   "metadata": {},
   "outputs": [],
   "source": []
  }
 ],
 "metadata": {
  "kernelspec": {
   "display_name": ".venv",
   "language": "python",
   "name": "python3"
  },
  "language_info": {
   "codemirror_mode": {
    "name": "ipython",
    "version": 3
   },
   "file_extension": ".py",
   "mimetype": "text/x-python",
   "name": "python",
   "nbconvert_exporter": "python",
   "pygments_lexer": "ipython3",
   "version": "3.12.10"
  }
 },
 "nbformat": 4,
 "nbformat_minor": 5
}
