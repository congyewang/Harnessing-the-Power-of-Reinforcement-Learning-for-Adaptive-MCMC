{
 "cells": [
  {
   "cell_type": "code",
   "execution_count": 1,
   "metadata": {},
   "outputs": [],
   "source": [
    "import numpy as np\n",
    "\n",
    "from pyrlmala.utils import CalculateMMD, Toolbox"
   ]
  },
  {
   "cell_type": "code",
   "execution_count": 2,
   "metadata": {},
   "outputs": [],
   "source": [
    "model_name = \"test-multivariant_normal-test-multivariant_normal\"\n",
    "posteriordb_path = \"../posteriordb/posterior_database\"\n",
    "gs = Toolbox.gold_standard(model_name, posteriordb_path)"
   ]
  },
  {
   "cell_type": "code",
   "execution_count": 3,
   "metadata": {},
   "outputs": [],
   "source": [
    "mcmc_env_list = [\"barker\", \"barker_esjd\", \"mala\", \"mala_esjd\"]"
   ]
  },
  {
   "cell_type": "code",
   "execution_count": 4,
   "metadata": {},
   "outputs": [
    {
     "name": "stdout",
     "output_type": "stream",
     "text": [
      "mala_esjd MMD: 0.11701291054487228\n",
      "mala MMD: 0.13807614147663116\n",
      "barker_esjd MMD: 0.004143203608691692\n",
      "barker MMD: 0.02546212263405323\n"
     ]
    }
   ],
   "source": [
    "while mcmc_env_list:\n",
    "    mcmc_env = mcmc_env_list.pop()\n",
    "    accepted_sample = np.load(f\"./data/gaussian_const_{mcmc_env}.npy\")\n",
    "\n",
    "    print(f\"{mcmc_env} MMD: {CalculateMMD.calculate(gs, accepted_sample)}\")"
   ]
  },
  {
   "cell_type": "code",
   "execution_count": null,
   "metadata": {},
   "outputs": [],
   "source": []
  }
 ],
 "metadata": {
  "kernelspec": {
   "display_name": ".venv",
   "language": "python",
   "name": "python3"
  },
  "language_info": {
   "codemirror_mode": {
    "name": "ipython",
    "version": 3
   },
   "file_extension": ".py",
   "mimetype": "text/x-python",
   "name": "python",
   "nbconvert_exporter": "python",
   "pygments_lexer": "ipython3",
   "version": "3.12.7"
  }
 },
 "nbformat": 4,
 "nbformat_minor": 2
}
