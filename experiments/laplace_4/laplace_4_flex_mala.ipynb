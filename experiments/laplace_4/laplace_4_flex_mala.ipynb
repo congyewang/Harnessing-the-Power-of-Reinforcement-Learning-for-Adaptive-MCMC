{
 "cells": [
  {
   "cell_type": "code",
   "execution_count": null,
   "metadata": {},
   "outputs": [],
   "source": [
    "from functools import partial\n",
    "\n",
    "import matplotlib.pyplot as plt\n",
    "import numpy as np\n",
    "import torch\n",
    "from cytoolz import pipe\n",
    "\n",
    "from pyrlmala.learning import LearningFactory\n",
    "from pyrlmala.learning.callback import Callback\n",
    "from pyrlmala.utils import Toolbox\n",
    "from pyrlmala.utils.plot import AveragePolicy"
   ]
  },
  {
   "cell_type": "code",
   "execution_count": null,
   "metadata": {},
   "outputs": [],
   "source": [
    "plot_agent_500 = partial(Toolbox.plot_agent, steps_per_episode=500)"
   ]
  },
  {
   "cell_type": "code",
   "execution_count": null,
   "metadata": {},
   "outputs": [],
   "source": [
    "model_name = \"test-laplace_4-test-laplace_4\"\n",
    "posteriordb_path = \"../posteriordb/posterior_database\""
   ]
  },
  {
   "cell_type": "code",
   "execution_count": null,
   "metadata": {},
   "outputs": [],
   "source": [
    "sample_dim = 2\n",
    "initial_sample = 0.1 * np.ones(sample_dim)\n",
    "initial_step_size = np.array([0.1])\n",
    "algorithm = \"ddpg\"\n",
    "mcmc_env = \"mala\"\n",
    "runtime_config_path = f\"./config/runtime_{mcmc_env}.toml\"\n",
    "\n",
    "learning_instance = LearningFactory.create_learning_instance(\n",
    "    algorithm=algorithm,\n",
    "    model_name=model_name,\n",
    "    posteriordb_path=posteriordb_path,\n",
    "    initial_sample=initial_sample,\n",
    "    initial_step_size=initial_step_size,\n",
    "    hyperparameter_config_path=f\"./config/{algorithm}_{mcmc_env}.toml\",\n",
    "    actor_config_path=\"./config/actor.toml\",\n",
    "    critic_config_path=\"./config/critic.toml\",\n",
    ")"
   ]
  },
  {
   "cell_type": "code",
   "execution_count": null,
   "metadata": {},
   "outputs": [],
   "source": [
    "data_range = ((-3, 3, 100), (-3, 3, 100))\n",
    "Toolbox.target_plot(data_range, learning_instance.env.envs[0].get_wrapper_attr(\"log_target_pdf\"))"
   ]
  },
  {
   "cell_type": "code",
   "execution_count": null,
   "metadata": {},
   "outputs": [],
   "source": [
    "x_range = (-3, 3, 0.1)\n",
    "y_range = (-3, 3, 0.1)\n",
    "\n",
    "policy = lambda x: learning_instance.actor(x.double())\n",
    "\n",
    "Toolbox.policy_plot_2D_heatmap(policy, torch.arange(*x_range), torch.arange(*y_range))"
   ]
  },
  {
   "cell_type": "code",
   "execution_count": null,
   "metadata": {},
   "outputs": [],
   "source": [
    "visualizer_and_actor_lr_instance = Callback(\n",
    "    learning_instance,\n",
    "    plot_frequency=100,\n",
    "    num_of_mesh=10,\n",
    "    auto_start=True,\n",
    "    runtime_config_path=runtime_config_path,\n",
    "    actor_folder_path=f\"./weights/{mcmc_env}/actor\",\n",
    "    actor_save_after_steps=1,\n",
    "    actor_save_frequency=10,\n",
    ")"
   ]
  },
  {
   "cell_type": "code",
   "execution_count": null,
   "metadata": {},
   "outputs": [],
   "source": [
    "visualizer_and_actor_lr_instance.train()"
   ]
  },
  {
   "cell_type": "code",
   "execution_count": null,
   "metadata": {},
   "outputs": [],
   "source": [
    "Toolbox.policy_plot_2D_heatmap(policy, torch.arange(*x_range), torch.arange(*y_range))"
   ]
  },
  {
   "cell_type": "code",
   "execution_count": null,
   "metadata": {},
   "outputs": [],
   "source": [
    "lower_window_size = 0\n",
    "upper_window_size = learning_instance.env.envs[0].get_wrapper_attr(\"current_step\") - 1\n",
    "\n",
    "reward_item_plot = lambda tpl: plt.plot(tpl[1][lower_window_size:upper_window_size], label=f\"{tpl[0]}\", alpha=0.5)\n",
    "\n",
    "pipe(\n",
    "    learning_instance.env.envs[0],\n",
    "    lambda env: (\n",
    "        (\"transient\", env.get_wrapper_attr(\"reward_items\")[\"transient\"]),\n",
    "        (\"entropy\", env.get_wrapper_attr(\"reward_items\")[\"entropy\"]),\n",
    "        (\"esjd\", env.get_wrapper_attr(\"reward_items\")[\"expected_square_jump_distance\"])\n",
    "    ),\n",
    "    lambda tpl: (reward_item_plot(tpl[0]), reward_item_plot(tpl[1]), reward_item_plot(tpl[2])),\n",
    "    lambda _: plt.legend(),\n",
    "    lambda _: plt.show()\n",
    ")"
   ]
  },
  {
   "cell_type": "code",
   "execution_count": null,
   "metadata": {},
   "outputs": [],
   "source": [
    "accepted_sample = pipe(\n",
    "    learning_instance,\n",
    "    lambda x: getattr(x, \"env\"),\n",
    "    lambda x: x.get_attr(\"store_accepted_sample\"),\n",
    ")[0]\n",
    "\n",
    "plt.plot(\n",
    "    accepted_sample[lower_window_size:upper_window_size, 0],\n",
    "    accepted_sample[lower_window_size:upper_window_size, 1],\n",
    "    'o-', alpha=0.1)\n",
    "plt.show()"
   ]
  },
  {
   "cell_type": "code",
   "execution_count": null,
   "metadata": {},
   "outputs": [],
   "source": [
    "pipe(learning_instance, lambda x: getattr(x, \"critic_values\"), plot_agent_500)"
   ]
  },
  {
   "cell_type": "code",
   "execution_count": null,
   "metadata": {},
   "outputs": [],
   "source": [
    "pipe(learning_instance, lambda x: getattr(x, \"critic_loss\"), plot_agent_500)"
   ]
  },
  {
   "cell_type": "code",
   "execution_count": null,
   "metadata": {},
   "outputs": [],
   "source": [
    "pipe(learning_instance, lambda x: getattr(x, \"actor_loss\"), plot_agent_500)"
   ]
  },
  {
   "cell_type": "code",
   "execution_count": null,
   "metadata": {},
   "outputs": [],
   "source": [
    "reward = pipe(\n",
    "    learning_instance,\n",
    "    lambda x: getattr(x, \"env\"),\n",
    "    lambda x: x.get_attr(\"store_reward\")[0],\n",
    "    Toolbox.reward_plot\n",
    ")"
   ]
  },
  {
   "cell_type": "code",
   "execution_count": null,
   "metadata": {},
   "outputs": [],
   "source": [
    "AveragePolicy.plot_policy(\n",
    "    learning_instance.actor,\n",
    "    f\"./weights/{mcmc_env}/actor\",\n",
    "    data_range,\n",
    "    1000,\n",
    "    20,\n",
    "    save_path=\"./test-laplace_4-test-laplace_4_ddpg_mala_average_policy.pdf\"\n",
    ")"
   ]
  },
  {
   "cell_type": "code",
   "execution_count": null,
   "metadata": {},
   "outputs": [],
   "source": []
  }
 ],
 "metadata": {
  "kernelspec": {
   "display_name": ".venv",
   "language": "python",
   "name": "python3"
  },
  "language_info": {
   "codemirror_mode": {
    "name": "ipython",
    "version": 3
   },
   "file_extension": ".py",
   "mimetype": "text/x-python",
   "name": "python",
   "nbconvert_exporter": "python",
   "pygments_lexer": "ipython3",
   "version": "3.12.7"
  }
 },
 "nbformat": 4,
 "nbformat_minor": 2
}
