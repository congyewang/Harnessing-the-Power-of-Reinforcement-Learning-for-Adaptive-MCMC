{
 "cells": [
  {
   "cell_type": "code",
   "execution_count": 1,
   "metadata": {},
   "outputs": [],
   "source": [
    "import numpy as np\n",
    "\n",
    "from pyrlmala.utils import CalculateMMD, Toolbox"
   ]
  },
  {
   "cell_type": "code",
   "execution_count": 2,
   "metadata": {},
   "outputs": [],
   "source": [
    "model_name = \"test-laplace_4-test-laplace_4\"\n",
    "posteriordb_path = \"../posteriordb/posterior_database\"\n",
    "gs = Toolbox.gold_standard(model_name, posteriordb_path)"
   ]
  },
  {
   "cell_type": "code",
   "execution_count": 3,
   "metadata": {},
   "outputs": [],
   "source": [
    "mcmc_env_list = [\"barker\", \"barker_esjd\", \"mala\", \"mala_esjd\"]"
   ]
  },
  {
   "cell_type": "code",
   "execution_count": null,
   "metadata": {},
   "outputs": [
    {
     "name": "stdout",
     "output_type": "stream",
     "text": [
      "mala_esjd MMD: 0.0760810524225235\n",
      "mala MMD: 0.7346802353858948\n",
      "barker_esjd MMD: 0.015065672807395458\n",
      "barker MMD: 0.01352724153548479\n"
     ]
    }
   ],
   "source": [
    "while mcmc_env_list:\n",
    "    mcmc_env = mcmc_env_list.pop()\n",
    "    accepted_sample = np.load(f\"./data/laplace_4_flex_{mcmc_env}.npy\")\n",
    "\n",
    "    print(f\"{mcmc_env} MMD: {CalculateMMD.calculate(gs, accepted_sample)}\")"
   ]
  },
  {
   "cell_type": "code",
   "execution_count": null,
   "metadata": {},
   "outputs": [],
   "source": []
  }
 ],
 "metadata": {
  "kernelspec": {
   "display_name": ".venv",
   "language": "python",
   "name": "python3"
  },
  "language_info": {
   "codemirror_mode": {
    "name": "ipython",
    "version": 3
   },
   "file_extension": ".py",
   "mimetype": "text/x-python",
   "name": "python",
   "nbconvert_exporter": "python",
   "pygments_lexer": "ipython3",
   "version": "3.12.7"
  }
 },
 "nbformat": 4,
 "nbformat_minor": 2
}
