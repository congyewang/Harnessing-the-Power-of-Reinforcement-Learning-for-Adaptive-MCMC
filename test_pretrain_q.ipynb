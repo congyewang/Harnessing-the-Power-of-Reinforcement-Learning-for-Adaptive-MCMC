{
 "cells": [
  {
   "cell_type": "code",
   "execution_count": 1,
   "metadata": {},
   "outputs": [],
   "source": [
    "import torch\n",
    "from pyrlmala.agent import QNetwork\n",
    "from pyrlmala.envs import BarkerEnv\n",
    "from functools import partial\n",
    "from scipy.stats import multivariate_normal\n",
    "import numpy as np\n",
    "from scipy.stats import wishart\n",
    "from pyrlmala.utils import Toolbox\n",
    "from pyrlmala.config import QNetworkConfigParser\n",
    "import gymnasium as gym\n",
    "from pyrlmala.learning.pretrain import PretrainingQNetwork"
   ]
  },
  {
   "cell_type": "code",
   "execution_count": 2,
   "metadata": {},
   "outputs": [],
   "source": [
    "sample_dim = 2\n",
    "critic_config_path = \"config/critic.toml\""
   ]
  },
  {
   "cell_type": "code",
   "execution_count": 3,
   "metadata": {},
   "outputs": [],
   "source": [
    "env = Toolbox.make_env(\n",
    "    \"BarkerEnv-v1.0\",\n",
    "    log_target_pdf=partial(\n",
    "        multivariate_normal.logpdf,\n",
    "        mean=np.zeros(sample_dim),\n",
    "        cov=np.eye(sample_dim),\n",
    "    ),\n",
    "    grad_log_target_pdf=lambda x: -x,\n",
    "    initial_sample=np.random.normal(size=sample_dim),\n",
    "    initial_covariance=wishart.rvs(\n",
    "        df=(sample_dim + 1), scale=np.eye(sample_dim)\n",
    "    ).reshape(sample_dim, sample_dim),\n",
    "    initial_step_size=np.random.uniform(0.1, 5.0),\n",
    "    total_timesteps=1_000,\n",
    "    log_mode=True,\n",
    ")\n",
    "envs = gym.vector.SyncVectorEnv([env])"
   ]
  },
  {
   "cell_type": "code",
   "execution_count": 4,
   "metadata": {},
   "outputs": [],
   "source": [
    "qf1 = QNetwork(envs, config=QNetworkConfigParser(critic_config_path))"
   ]
  },
  {
   "cell_type": "code",
   "execution_count": 5,
   "metadata": {},
   "outputs": [],
   "source": [
    "initial_sample = torch.zeros(1, sample_dim)\n",
    "pretrain_q = PretrainingQNetwork(envs.envs[0].unwrapped, qf1, initial_sample, device=\"cpu\")"
   ]
  },
  {
   "cell_type": "code",
   "execution_count": 6,
   "metadata": {},
   "outputs": [
    {
     "data": {
      "application/vnd.jupyter.widget-view+json": {
       "model_id": "b22c9dda56df4ae7b21a88572e0b40db",
       "version_major": 2,
       "version_minor": 0
      },
      "text/plain": [
       "Training Epochs:   0%|          | 0/1000 [00:00<?, ?it/s]"
      ]
     },
     "metadata": {},
     "output_type": "display_data"
    }
   ],
   "source": [
    "pretrain_q.train()"
   ]
  },
  {
   "cell_type": "code",
   "execution_count": null,
   "metadata": {},
   "outputs": [],
   "source": []
  }
 ],
 "metadata": {
  "kernelspec": {
   "display_name": ".venv",
   "language": "python",
   "name": "python3"
  },
  "language_info": {
   "codemirror_mode": {
    "name": "ipython",
    "version": 3
   },
   "file_extension": ".py",
   "mimetype": "text/x-python",
   "name": "python",
   "nbconvert_exporter": "python",
   "pygments_lexer": "ipython3",
   "version": "3.12.7"
  }
 },
 "nbformat": 4,
 "nbformat_minor": 2
}
